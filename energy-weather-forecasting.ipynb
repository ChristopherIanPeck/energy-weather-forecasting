{
 "cells": [
  {
   "cell_type": "code",
   "execution_count": 1,
   "id": "e77c8fe5",
   "metadata": {
    "_cell_guid": "b1076dfc-b9ad-4769-8c92-a6c4dae69d19",
    "_uuid": "8f2839f25d086af736a60e9eeb907d3b93b6e0e5",
    "execution": {
     "iopub.execute_input": "2025-01-04T16:00:56.201829Z",
     "iopub.status.busy": "2025-01-04T16:00:56.201466Z",
     "iopub.status.idle": "2025-01-04T16:00:56.587053Z",
     "shell.execute_reply": "2025-01-04T16:00:56.586178Z"
    },
    "papermill": {
     "duration": 0.390943,
     "end_time": "2025-01-04T16:00:56.588998",
     "exception": false,
     "start_time": "2025-01-04T16:00:56.198055",
     "status": "completed"
    },
    "tags": []
   },
   "outputs": [],
   "source": [
    "import pandas as pd\n",
    "import numpy as np\n"
   ]
  }
 ],
 "metadata": {
  "kaggle": {
   "accelerator": "none",
   "dataSources": [
    {
     "datasetId": 1854875,
     "sourceId": 3032612,
     "sourceType": "datasetVersion"
    },
    {
     "datasetId": 3166566,
     "sourceId": 5488073,
     "sourceType": "datasetVersion"
    }
   ],
   "isGpuEnabled": false,
   "isInternetEnabled": true,
   "language": "python",
   "sourceType": "notebook"
  },
  "kernelspec": {
   "display_name": "Python 3",
   "language": "python",
   "name": "python3"
  },
  "language_info": {
   "codemirror_mode": {
    "name": "ipython",
    "version": 3
   },
   "file_extension": ".py",
   "mimetype": "text/x-python",
   "name": "python",
   "nbconvert_exporter": "python",
   "pygments_lexer": "ipython3",
   "version": "3.10.12"
  },
  "papermill": {
   "default_parameters": {},
   "duration": 3.242172,
   "end_time": "2025-01-04T16:00:57.110416",
   "environment_variables": {},
   "exception": null,
   "input_path": "__notebook__.ipynb",
   "output_path": "__notebook__.ipynb",
   "parameters": {},
   "start_time": "2025-01-04T16:00:53.868244",
   "version": "2.6.0"
  }
 },
 "nbformat": 4,
 "nbformat_minor": 5
}
