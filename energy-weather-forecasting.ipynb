{
 "cells": [
  {
   "cell_type": "markdown",
   "id": "642aa276",
   "metadata": {
    "papermill": {
     "duration": 0.00441,
     "end_time": "2025-01-09T16:51:25.943670",
     "exception": false,
     "start_time": "2025-01-09T16:51:25.939260",
     "status": "completed"
    },
    "tags": []
   },
   "source": [
    "# **Predicting Electricity Spot Prices Based on Weather Patterns in Nordic Countries**"
   ]
  },
  {
   "cell_type": "markdown",
   "id": "9d013e0f",
   "metadata": {
    "papermill": {
     "duration": 0.00333,
     "end_time": "2025-01-09T16:51:25.950996",
     "exception": false,
     "start_time": "2025-01-09T16:51:25.947666",
     "status": "completed"
    },
    "tags": []
   },
   "source": [
    "In this project, I will combine weather, electricity spot price and energy productionn and consumption data for Norway in the perido of 2017-2019.\n",
    "\n",
    "https://www.statnett.no/en/\n",
    "https://www.ncdc.noaa.gov/cdo-web/\n",
    "https://www.energidataservice.dk/tso-electricity/Elspotprices"
   ]
  },
  {
   "cell_type": "code",
   "execution_count": 1,
   "id": "599ebd48",
   "metadata": {
    "_cell_guid": "b1076dfc-b9ad-4769-8c92-a6c4dae69d19",
    "_uuid": "8f2839f25d086af736a60e9eeb907d3b93b6e0e5",
    "execution": {
     "iopub.execute_input": "2025-01-09T16:51:25.959623Z",
     "iopub.status.busy": "2025-01-09T16:51:25.959218Z",
     "iopub.status.idle": "2025-01-09T16:51:28.882646Z",
     "shell.execute_reply": "2025-01-09T16:51:28.881219Z"
    },
    "papermill": {
     "duration": 2.929907,
     "end_time": "2025-01-09T16:51:28.884522",
     "exception": false,
     "start_time": "2025-01-09T16:51:25.954615",
     "status": "completed"
    },
    "tags": []
   },
   "outputs": [
    {
     "name": "stdout",
     "output_type": "stream",
     "text": [
      "Libaries imported\n"
     ]
    }
   ],
   "source": [
    "#Set up and Libaries\n",
    "import pandas as pd\n",
    "import numpy as np\n",
    "import matplotlib.pyplot as plt\n",
    "import seaborn as sns\n",
    "from sklearn.model_selection import train_test_split\n",
    "from sklearn.linear_model import LinearRegression\n",
    "from sklearn.preprocessing import StandardScaler\n",
    "from sklearn.metrics import mean_absolute_error, mean_squared_error\n",
    "from statsmodels.tsa.holtwinters import ExponentialSmoothing\n",
    "import plotly.express as px\n",
    "\n",
    "print(\"Libaries imported\")"
   ]
  },
  {
   "cell_type": "code",
   "execution_count": 2,
   "id": "7d7947f5",
   "metadata": {
    "execution": {
     "iopub.execute_input": "2025-01-09T16:51:28.894478Z",
     "iopub.status.busy": "2025-01-09T16:51:28.893788Z",
     "iopub.status.idle": "2025-01-09T16:51:29.167072Z",
     "shell.execute_reply": "2025-01-09T16:51:29.165943Z"
    },
    "papermill": {
     "duration": 0.28032,
     "end_time": "2025-01-09T16:51:29.168946",
     "exception": false,
     "start_time": "2025-01-09T16:51:28.888626",
     "status": "completed"
    },
    "tags": []
   },
   "outputs": [
    {
     "name": "stdout",
     "output_type": "stream",
     "text": [
      "Datasets Loaded\n"
     ]
    }
   ],
   "source": [
    "#Loading Data\n",
    "weather_df = pd.read_csv('/kaggle/input/finland-norway-and-sweden-weather-data-20152019/nordics_weather.csv')\n",
    "electricity_df = pd.read_csv('/kaggle/input/electricity-spot-price/Elspotprices.csv', delimiter=';')\n",
    "\n",
    "# List of production and consumption CSV files.\n",
    "production_consumption_files = ['/kaggle/input/production-and-consumption2017-2019/ProductionConsumption-2017.csv', \n",
    "                                '/kaggle/input/production-and-consumption2017-2019/ProductionConsumption-2018.csv', \n",
    "                                '/kaggle/input/production-and-consumption2017-2019/ProductionConsumption-2019.csv']\n",
    "\n",
    "# Read production and comsumption CSV files into dataframes and concatenate them together.\n",
    "dfs = [pd.read_csv(file, delimiter=';') for file in production_consumption_files]\n",
    "production_consumption_df = pd.concat(dfs, ignore_index=True)\n",
    "\n",
    "print(\"Datasets Loaded\")"
   ]
  },
  {
   "cell_type": "code",
   "execution_count": 3,
   "id": "2b986261",
   "metadata": {
    "execution": {
     "iopub.execute_input": "2025-01-09T16:51:29.178592Z",
     "iopub.status.busy": "2025-01-09T16:51:29.178185Z",
     "iopub.status.idle": "2025-01-09T16:51:29.222544Z",
     "shell.execute_reply": "2025-01-09T16:51:29.221202Z"
    },
    "papermill": {
     "duration": 0.051053,
     "end_time": "2025-01-09T16:51:29.224366",
     "exception": false,
     "start_time": "2025-01-09T16:51:29.173313",
     "status": "completed"
    },
    "tags": []
   },
   "outputs": [
    {
     "name": "stdout",
     "output_type": "stream",
     "text": [
      "   country      date  precipitation  snow_depth       tavg      tmax  \\\n",
      "0  Finland  1/1/2015       1.714141  284.545455   1.428571  2.912739   \n",
      "1  Finland  1/2/2015      10.016667  195.000000   0.553571  2.358599   \n",
      "2  Finland  1/3/2015       3.956061  284.294118  -1.739286  0.820382   \n",
      "3  Finland  1/4/2015       0.246193  260.772727  -7.035714 -3.110828   \n",
      "4  Finland  1/5/2015       0.036364  236.900000 -17.164286 -8.727564   \n",
      "\n",
      "        tmin  \n",
      "0  -1.015287  \n",
      "1  -0.998718  \n",
      "2  -3.463871  \n",
      "3  -9.502581  \n",
      "4 -19.004487  \n",
      "country           object\n",
      "date              object\n",
      "precipitation    float64\n",
      "snow_depth       float64\n",
      "tavg             float64\n",
      "tmax             float64\n",
      "tmin             float64\n",
      "dtype: object\n",
      "country          0\n",
      "date             0\n",
      "precipitation    0\n",
      "snow_depth       0\n",
      "tavg             0\n",
      "tmax             0\n",
      "tmin             0\n",
      "dtype: int64\n",
      "            HourUTC            HourDK PriceArea SpotPriceDKK SpotPriceEUR\n",
      "0  2022-10-19 21:00  2022-10-19 23:00       DK2   978,750000   131,570007\n",
      "1  2022-10-19 20:00  2022-10-19 22:00       DK2  1102,079956   148,149994\n",
      "2  2022-10-19 19:00  2022-10-19 21:00       DK2  1090,329956   146,570007\n",
      "3  2022-10-19 18:00  2022-10-19 20:00       DK2  1238,589966   166,500000\n",
      "4  2022-10-19 17:00  2022-10-19 19:00       DK2  1688,050049   226,919998\n",
      "HourUTC         object\n",
      "HourDK          object\n",
      "PriceArea       object\n",
      "SpotPriceDKK    object\n",
      "SpotPriceEUR    object\n",
      "dtype: object\n",
      "HourUTC         0\n",
      "HourDK          0\n",
      "PriceArea       0\n",
      "SpotPriceDKK    0\n",
      "SpotPriceEUR    0\n",
      "dtype: int64\n",
      "               Time  Production  Consumption\n",
      "0  2017-01-01 00:00       12316        14912\n",
      "1  2017-01-01 01:00       12189        14786\n",
      "2  2017-01-01 02:00       11992        14638\n",
      "3  2017-01-01 03:00       11646        14442\n",
      "4  2017-01-01 04:00       11760        14392\n",
      "Time           object\n",
      "Production      int64\n",
      "Consumption     int64\n",
      "dtype: object\n",
      "Time           0\n",
      "Production     0\n",
      "Consumption    0\n",
      "dtype: int64\n"
     ]
    }
   ],
   "source": [
    "# Basic exploration\n",
    "print(weather_df.head())\n",
    "print(weather_df.dtypes)\n",
    "print(weather_df.isnull().sum())\n",
    "\n",
    "print(electricity_df.head())\n",
    "print(electricity_df.dtypes)\n",
    "print(electricity_df.isnull().sum())\n",
    "\n",
    "print(production_consumption_df.head())\n",
    "print(production_consumption_df .dtypes)\n",
    "print(production_consumption_df .isnull().sum())"
   ]
  },
  {
   "cell_type": "markdown",
   "id": "42895175",
   "metadata": {
    "papermill": {
     "duration": 0.003838,
     "end_time": "2025-01-09T16:51:29.232322",
     "exception": false,
     "start_time": "2025-01-09T16:51:29.228484",
     "status": "completed"
    },
    "tags": []
   },
   "source": [
    "Based on the inital exploration of the datasets, we can see there are no missing values but the data structure needs to be cleaned and parsed correctly and the time zones need to be aligned.\n",
    "\n",
    "Weather Data:\n",
    "There are no missing values and the data appears to be clean.\n",
    "\n",
    "The 'date' column is currently type 'object', which needs to be converted to 'datetime' and set as the index. This will allow for easier time series analysis and aslignment with the other datasets.\n",
    "\n",
    "Electricity Spot Price Data:\n",
    "Therer are no missing values but the dataset requires some cleaning.\n",
    "\n",
    "The dataframe formatting means we need to load the data with a delimiter ';'\n",
    "\n",
    "I will remove the 'SpotPriceDKK', 'HourDK' and 'PriceArea' columns due to redudency.\n",
    "\n",
    "The 'SpotPriceEUR' column has commas not dots in the decimal place, this will cause issues when convering them to numerical values. These converted to 'float'.\n",
    "\n",
    "The 'HourUTC'column is a strings, which need to be converted to 'datetime' for time-based analysis just like our other datasets. I will set 'HourUTC' as the index.\n",
    "\n",
    "Production and Conmsumption Data: ---\n",
    "The dataframe formatting means we need to load the data with a delimiter ';'\n",
    "I also need to specify the correct formating for the date and time before converting to datetime and setting it the index.\n"
   ]
  },
  {
   "cell_type": "code",
   "execution_count": 4,
   "id": "f5f4b3b6",
   "metadata": {
    "execution": {
     "iopub.execute_input": "2025-01-09T16:51:29.241599Z",
     "iopub.status.busy": "2025-01-09T16:51:29.241194Z",
     "iopub.status.idle": "2025-01-09T16:51:29.272495Z",
     "shell.execute_reply": "2025-01-09T16:51:29.271271Z"
    },
    "papermill": {
     "duration": 0.03794,
     "end_time": "2025-01-09T16:51:29.274325",
     "exception": false,
     "start_time": "2025-01-09T16:51:29.236385",
     "status": "completed"
    },
    "tags": []
   },
   "outputs": [
    {
     "name": "stdout",
     "output_type": "stream",
     "text": [
      "            country  precipitation  snow_depth       tavg      tmax       tmin\n",
      "date                                                                          \n",
      "2015-01-01  Finland       1.714141  284.545455   1.428571  2.912739  -1.015287\n",
      "2015-01-02  Finland      10.016667  195.000000   0.553571  2.358599  -0.998718\n",
      "2015-01-03  Finland       3.956061  284.294118  -1.739286  0.820382  -3.463871\n",
      "2015-01-04  Finland       0.246193  260.772727  -7.035714 -3.110828  -9.502581\n",
      "2015-01-05  Finland       0.036364  236.900000 -17.164286 -8.727564 -19.004487\n",
      "country           object\n",
      "precipitation    float64\n",
      "snow_depth       float64\n",
      "tavg             float64\n",
      "tmax             float64\n",
      "tmin             float64\n",
      "dtype: object\n"
     ]
    }
   ],
   "source": [
    "#Clean Weather Dataset\n",
    "\n",
    "# Covert 'date' to 'datetime' and set 'date' as index\n",
    "weather_df['date'] = pd.to_datetime(weather_df['date'])\n",
    "weather_df.set_index('date', inplace=True)\n",
    "\n",
    "print(weather_df.head())\n",
    "print(weather_df.dtypes)"
   ]
  },
  {
   "cell_type": "code",
   "execution_count": 5,
   "id": "6eb54be8",
   "metadata": {
    "execution": {
     "iopub.execute_input": "2025-01-09T16:51:29.284424Z",
     "iopub.status.busy": "2025-01-09T16:51:29.284091Z",
     "iopub.status.idle": "2025-01-09T16:51:29.344573Z",
     "shell.execute_reply": "2025-01-09T16:51:29.343275Z"
    },
    "papermill": {
     "duration": 0.067393,
     "end_time": "2025-01-09T16:51:29.346385",
     "exception": false,
     "start_time": "2025-01-09T16:51:29.278992",
     "status": "completed"
    },
    "tags": []
   },
   "outputs": [
    {
     "name": "stdout",
     "output_type": "stream",
     "text": [
      "                     SpotPriceEUR\n",
      "HourUTC                          \n",
      "2022-10-19 21:00:00   131570007.0\n",
      "2022-10-19 20:00:00   148149994.0\n",
      "2022-10-19 19:00:00   146570007.0\n",
      "2022-10-19 18:00:00   166500000.0\n",
      "2022-10-19 17:00:00   226919998.0\n",
      "SpotPriceEUR    float64\n",
      "dtype: object\n"
     ]
    }
   ],
   "source": [
    "#Clean Electricity Spot Price Dataset\n",
    "\n",
    "# Convert the spot prices to numeric, handling commas and converting to float values.\n",
    "electricity_df['SpotPriceEUR'] = electricity_df['SpotPriceEUR'].str.replace(',', '').astype(float)\n",
    "\n",
    "# Convert the 'HourUTC' column to datetime\n",
    "electricity_df['HourUTC'] = pd.to_datetime(electricity_df['HourUTC'])\n",
    "\n",
    "# Set 'HourUTC' as index for the electricity data\n",
    "electricity_df.set_index('HourUTC', inplace=True)\n",
    "\n",
    "# Drop the redundant columns 'SpotPriceDKK' and 'TimeDKK'\n",
    "electricity_df = electricity_df.drop(columns=['SpotPriceDKK', 'HourDK', 'PriceArea'])\n",
    "\n",
    "\n",
    "print(electricity_df.head())\n",
    "print(electricity_df.dtypes)"
   ]
  },
  {
   "cell_type": "code",
   "execution_count": 6,
   "id": "21ab1eef",
   "metadata": {
    "execution": {
     "iopub.execute_input": "2025-01-09T16:51:29.356456Z",
     "iopub.status.busy": "2025-01-09T16:51:29.355993Z",
     "iopub.status.idle": "2025-01-09T16:51:29.374078Z",
     "shell.execute_reply": "2025-01-09T16:51:29.372777Z"
    },
    "papermill": {
     "duration": 0.025096,
     "end_time": "2025-01-09T16:51:29.375983",
     "exception": false,
     "start_time": "2025-01-09T16:51:29.350887",
     "status": "completed"
    },
    "tags": []
   },
   "outputs": [
    {
     "name": "stdout",
     "output_type": "stream",
     "text": [
      "                     Production  Consumption\n",
      "Time                                        \n",
      "2017-01-01 00:00:00       12316        14912\n",
      "2017-01-01 01:00:00       12189        14786\n",
      "2017-01-01 02:00:00       11992        14638\n",
      "2017-01-01 03:00:00       11646        14442\n",
      "2017-01-01 04:00:00       11760        14392\n",
      "Production     int64\n",
      "Consumption    int64\n",
      "dtype: object\n"
     ]
    }
   ],
   "source": [
    "# Clean Production and Consumption Dataset\n",
    "\n",
    "# Convert 'Time' to datetime without timezone information\n",
    "production_consumption_df['Time'] = pd.to_datetime(production_consumption_df['Time'])\n",
    "\n",
    "# 3. Set 'Time' as index\n",
    "production_consumption_df.set_index('Time', inplace=True)\n",
    "\n",
    "# Display the first few rows and the data types\n",
    "print(production_consumption_df.head())\n",
    "print(production_consumption_df.dtypes)\n"
   ]
  },
  {
   "cell_type": "markdown",
   "id": "40f18749",
   "metadata": {
    "papermill": {
     "duration": 0.003855,
     "end_time": "2025-01-09T16:51:29.384427",
     "exception": false,
     "start_time": "2025-01-09T16:51:29.380572",
     "status": "completed"
    },
    "tags": []
   },
   "source": [
    "There is an overlaping time frame from 2017 to 2019 which will be where I merge the datasets for futher analysis and filter the weather dataset for Norway specificly."
   ]
  },
  {
   "cell_type": "code",
   "execution_count": 7,
   "id": "86dd2c75",
   "metadata": {
    "execution": {
     "iopub.execute_input": "2025-01-09T16:51:29.394221Z",
     "iopub.status.busy": "2025-01-09T16:51:29.393884Z",
     "iopub.status.idle": "2025-01-09T16:51:29.442013Z",
     "shell.execute_reply": "2025-01-09T16:51:29.440641Z"
    },
    "papermill": {
     "duration": 0.055085,
     "end_time": "2025-01-09T16:51:29.443870",
     "exception": false,
     "start_time": "2025-01-09T16:51:29.388785",
     "status": "completed"
    },
    "tags": []
   },
   "outputs": [
    {
     "name": "stdout",
     "output_type": "stream",
     "text": [
      "     HourUTC  SpotPriceEUR country  precipitation  snow_depth      tavg  \\\n",
      "0 2019-12-31    21590000.0  Norway       4.920921  161.163158 -0.666667   \n",
      "1 2019-12-30    11840000.0  Norway       7.822269  163.234375  1.757895   \n",
      "2 2019-12-29    28100000.0  Norway      19.756303  195.814815  2.657895   \n",
      "3 2019-12-28    32320000.0  Norway       9.156303  204.497355 -1.105263   \n",
      "4 2019-12-27    32930000.0  Norway       1.078992  202.026042 -4.578947   \n",
      "\n",
      "       tmax      tmin  Production  Consumption  \n",
      "0  3.388462 -1.637500       11446        15347  \n",
      "1  6.254455  1.238614       11231        15318  \n",
      "2  6.792308  0.575000       13266        16359  \n",
      "3  2.185000 -5.410680       14896        17849  \n",
      "4 -1.467308 -7.728155       13386        17300  \n",
      "HourUTC          datetime64[ns]\n",
      "SpotPriceEUR            float64\n",
      "country                  object\n",
      "precipitation           float64\n",
      "snow_depth              float64\n",
      "tavg                    float64\n",
      "tmax                    float64\n",
      "tmin                    float64\n",
      "Production                int64\n",
      "Consumption               int64\n",
      "dtype: object\n"
     ]
    }
   ],
   "source": [
    "# Filter the datasets to match the time range of (2017-2019)\n",
    "weather_df_filtered = weather_df[\n",
    "    (weather_df.index >= '2017-01-01') & (weather_df.index <= '2019-12-31') & (weather_df['country'] == 'Norway')\n",
    "]\n",
    "electricity_df_filtered = electricity_df[\n",
    "    (electricity_df.index >= '2017-01-01') & (electricity_df.index <= '2019-12-31')\n",
    "]\n",
    "production_consumption_df_filtered = production_consumption_df[\n",
    "    (production_consumption_df.index >= '2017-01-01') & (production_consumption_df.index <= '2019-12-31')\n",
    "]\n",
    "\n",
    "# Merge electricity and weather data\n",
    "merged_df_1 = pd.merge(\n",
    "    electricity_df_filtered, \n",
    "    weather_df_filtered, \n",
    "    left_on='HourUTC', \n",
    "    right_index=True, \n",
    "    how='inner'\n",
    ")\n",
    "\n",
    "# Merge the result with production_consumption_df\n",
    "merged_df = pd.merge(\n",
    "    merged_df_1, \n",
    "    production_consumption_df_filtered, \n",
    "    left_on='HourUTC', \n",
    "    right_index=True, \n",
    "    how='inner'\n",
    ")\n",
    "\n",
    "# Remove duplicates (if any)\n",
    "merged_df = merged_df.drop_duplicates()\n",
    "\n",
    "# Reset the index for easier manipulation\n",
    "merged_df.reset_index(inplace=True)\n",
    "\n",
    "# Display the first few rows of the merged dataframe\n",
    "print(merged_df.head())\n",
    "print(merged_df.dtypes)"
   ]
  },
  {
   "cell_type": "markdown",
   "id": "541295fa",
   "metadata": {
    "papermill": {
     "duration": 0.004008,
     "end_time": "2025-01-09T16:51:29.452268",
     "exception": false,
     "start_time": "2025-01-09T16:51:29.448260",
     "status": "completed"
    },
    "tags": []
   },
   "source": []
  },
  {
   "cell_type": "markdown",
   "id": "ae794c4f",
   "metadata": {
    "papermill": {
     "duration": 0.004104,
     "end_time": "2025-01-09T16:51:29.461134",
     "exception": false,
     "start_time": "2025-01-09T16:51:29.457030",
     "status": "completed"
    },
    "tags": []
   },
   "source": [
    "#Outliers\n",
    "\n",
    "Due to the nature of spot price and to some exten production and cinsumption it would be benefitial to look for outliers that could skew the data iun futher analysis.\n"
   ]
  },
  {
   "cell_type": "code",
   "execution_count": 8,
   "id": "1d587aca",
   "metadata": {
    "execution": {
     "iopub.execute_input": "2025-01-09T16:51:29.471384Z",
     "iopub.status.busy": "2025-01-09T16:51:29.471025Z",
     "iopub.status.idle": "2025-01-09T16:51:29.662796Z",
     "shell.execute_reply": "2025-01-09T16:51:29.661166Z"
    },
    "papermill": {
     "duration": 0.199291,
     "end_time": "2025-01-09T16:51:29.664833",
     "exception": false,
     "start_time": "2025-01-09T16:51:29.465542",
     "status": "completed"
    },
    "tags": []
   },
   "outputs": [
    {
     "data": {
      "image/png": "[encoded data removed]",
      "text/plain": [
       "<Figure size 1000x600 with 1 Axes>"
      ]
     },
     "metadata": {},
     "output_type": "display_data"
    },
    {
     "name": "stdout",
     "output_type": "stream",
     "text": [
      "        HourUTC  SpotPriceEUR country  precipitation  snow_depth      tavg  \\\n",
      "16   2019-12-15     1520000.0  Norway       3.417647  190.433155  0.252632   \n",
      "20   2019-12-11     2400000.0  Norway       4.750420  183.941489 -0.515789   \n",
      "22   2019-12-09   -15100000.0  Norway       2.627311  182.204188 -4.242105   \n",
      "24   2019-12-07     4160000.0  Norway       8.477311  138.629630 -1.984211   \n",
      "80   2019-10-12    -2660000.0  Norway       3.358577    3.016760  3.415789   \n",
      "...         ...           ...     ...            ...         ...       ...   \n",
      "1040 2017-02-24           0.0  Norway       1.913919  225.442478 -4.642105   \n",
      "1041 2017-02-23    -5030000.0  Norway       1.905861  208.116592 -4.463158   \n",
      "1044 2017-02-20     1900000.0  Norway       8.589011  162.393805 -1.663158   \n",
      "1083 2017-01-12     2760000.0  Norway       4.138686  186.602679 -2.068421   \n",
      "1091 2017-01-04      -50000.0  Norway       0.465201  190.672646 -7.336842   \n",
      "\n",
      "          tmax      tmin  Production  Consumption  \n",
      "16    2.662500 -0.486667       11945        16266  \n",
      "20    4.310680 -3.364762       11845        16976  \n",
      "22    0.736893 -5.549020       12098        16439  \n",
      "24    2.195238 -2.640196       10577        16099  \n",
      "80    7.182075  2.468932       11257        12914  \n",
      "...        ...       ...         ...          ...  \n",
      "1040 -0.222881 -8.658120       14895        17417  \n",
      "1041  0.036441 -6.663793       14445        16775  \n",
      "1044  2.813793 -2.097436       13226        15494  \n",
      "1083  2.187931 -2.737391       12407        16393  \n",
      "1091 -1.936207 -9.648276       14907        17318  \n",
      "\n",
      "[66 rows x 10 columns]\n"
     ]
    }
   ],
   "source": [
    "#Boxplot of Spotprice to check for outliers\n",
    "plt.figure(figsize=(10, 6))\n",
    "sns.boxplot(x=merged_df['SpotPriceEUR'])\n",
    "plt.title(\"Boxplot of Electricity Spot Prices\")\n",
    "plt.show()\n",
    "\n",
    "#Using IQR to verify the results from the inital Boxpot\n",
    "Q1 = merged_df['SpotPriceEUR'].quantile(0.25)\n",
    "Q3 = merged_df['SpotPriceEUR'].quantile(0.75)\n",
    "IQR = Q3 - Q1\n",
    "lower_bound = Q1 - 1.5 * IQR\n",
    "upper_bound = Q3 + 1.5 * IQR\n",
    "outliers = merged_df[(merged_df['SpotPriceEUR'] < lower_bound) | (merged_df['SpotPriceEUR'] > upper_bound)]\n",
    "print(outliers)"
   ]
  },
  {
   "cell_type": "markdown",
   "id": "ea651681",
   "metadata": {
    "papermill": {
     "duration": 0.004818,
     "end_time": "2025-01-09T16:51:29.674606",
     "exception": false,
     "start_time": "2025-01-09T16:51:29.669788",
     "status": "completed"
    },
    "tags": []
   },
   "source": [
    "Based on the initial results from the boxplot and IQR. There are some outliers / anomalies that need more investigation. Initially I want to check the negative values in the spot price against the production and consumption values to see if these values are realistic of over production / under consumption or if they are indeed an outliers / anomalies."
   ]
  },
  {
   "cell_type": "code",
   "execution_count": 9,
   "id": "b1c0e17f",
   "metadata": {
    "execution": {
     "iopub.execute_input": "2025-01-09T16:51:29.685476Z",
     "iopub.status.busy": "2025-01-09T16:51:29.685096Z",
     "iopub.status.idle": "2025-01-09T16:51:30.359046Z",
     "shell.execute_reply": "2025-01-09T16:51:30.357853Z"
    },
    "papermill": {
     "duration": 0.681593,
     "end_time": "2025-01-09T16:51:30.360939",
     "exception": false,
     "start_time": "2025-01-09T16:51:29.679346",
     "status": "completed"
    },
    "tags": []
   },
   "outputs": [
    {
     "data": {
      "image/png": "[encoded data removed]",
      "text/plain": [
       "<Figure size 1000x600 with 1 Axes>"
      ]
     },
     "metadata": {},
     "output_type": "display_data"
    },
    {
     "data": {
      "image/png": "[encoded data removed]",
      "text/plain": [
       "<Figure size 1000x600 with 1 Axes>"
      ]
     },
     "metadata": {},
     "output_type": "display_data"
    }
   ],
   "source": [
    "# Filter for negative spot prices\n",
    "negative_prices = merged_df[merged_df['SpotPriceEUR'] < 0]\n",
    "\n",
    "# Plot Spot Price vs Production\n",
    "plt.figure(figsize=(10, 6))\n",
    "plt.scatter(negative_prices['Production'], negative_prices['SpotPriceEUR'], color='blue', alpha=0.6, label=\"Negative Spot Prices\")\n",
    "plt.xlabel('Production (MW)', fontsize=12)\n",
    "plt.ylabel('Spot Price (EUR)', fontsize=12)\n",
    "plt.title('Negative Spot Prices vs Production', fontsize=14)\n",
    "plt.axhline(0, color='red', linestyle='--', label='Spot Price = 0')\n",
    "plt.legend()\n",
    "plt.grid(True, linestyle='--', alpha=0.5)\n",
    "plt.show()\n",
    "\n",
    "# Plot Spot Price vs Consumption\n",
    "plt.figure(figsize=(10, 6))\n",
    "plt.scatter(negative_prices['Consumption'], negative_prices['SpotPriceEUR'], color='green', alpha=0.6, label=\"Negative Spot Prices\")\n",
    "plt.xlabel('Consumption (MW)', fontsize=12)\n",
    "plt.ylabel('Spot Price (EUR)', fontsize=12)\n",
    "plt.title('Negative Spot Prices vs Consumption', fontsize=14)\n",
    "plt.axhline(0, color='red', linestyle='--', label='Spot Price = 0')\n",
    "plt.legend()\n",
    "plt.grid(True, linestyle='--', alpha=0.5)\n",
    "plt.show()\n"
   ]
  }
 ],
 "metadata": {
  "kaggle": {
   "accelerator": "none",
   "dataSources": [
    {
     "datasetId": 1854875,
     "sourceId": 3032612,
     "sourceType": "datasetVersion"
    },
    {
     "datasetId": 3166566,
     "sourceId": 5488073,
     "sourceType": "datasetVersion"
    },
    {
     "datasetId": 6444667,
     "sourceId": 10401017,
     "sourceType": "datasetVersion"
    }
   ],
   "dockerImageVersionId": 30822,
   "isGpuEnabled": false,
   "isInternetEnabled": true,
   "language": "python",
   "sourceType": "notebook"
  },
  "kernelspec": {
   "display_name": "Python 3",
   "language": "python",
   "name": "python3"
  },
  "language_info": {
   "codemirror_mode": {
    "name": "ipython",
    "version": 3
   },
   "file_extension": ".py",
   "mimetype": "text/x-python",
   "name": "python",
   "nbconvert_exporter": "python",
   "pygments_lexer": "ipython3",
   "version": "3.10.12"
  },
  "papermill": {
   "default_parameters": {},
   "duration": 7.536409,
   "end_time": "2025-01-09T16:51:31.190086",
   "environment_variables": {},
   "exception": null,
   "input_path": "__notebook__.ipynb",
   "output_path": "__notebook__.ipynb",
   "parameters": {},
   "start_time": "2025-01-09T16:51:23.653677",
   "version": "2.6.0"
  }
 },
 "nbformat": 4,
 "nbformat_minor": 5
}
